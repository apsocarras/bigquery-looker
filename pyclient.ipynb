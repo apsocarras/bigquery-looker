{
 "cells": [
  {
   "cell_type": "code",
   "execution_count": 1,
   "metadata": {},
   "outputs": [
    {
     "name": "stdout",
     "output_type": "stream",
     "text": [
      "Dataset 'electric-glyph-372116:plants' successfully created.\n"
     ]
    }
   ],
   "source": [
    "%%bash\n",
    "bq mk -d --data_location=\"US\" plants"
   ]
  },
  {
   "cell_type": "code",
   "execution_count": 14,
   "metadata": {},
   "outputs": [
    {
     "name": "stdout",
     "output_type": "stream",
     "text": [
      "Datasets in project electric-glyph-372116:\n",
      "\tlego\n",
      "\tmls_games\n",
      "\tmls_salaries\n",
      "\tmy_vinyls\n",
      "\tplants\n",
      "\tsf_bikeshare\n",
      "\tstreaming_catalog\n"
     ]
    }
   ],
   "source": [
    "from google.cloud import bigquery\n",
    "\n",
    "client = bigquery.Client()\n",
    "\n",
    "datasets = list(client.list_datasets())\n",
    "project = client.project # electric-glyph-372116\n",
    "\n",
    "if datasets: # if project non-empty\n",
    "  print(f\"Datasets in project {project}:\")\n",
    "  for dataset in datasets:\n",
    "    print(f\"\\t{dataset.dataset_id}\")\n",
    "else:\n",
    "  print(f\"{project} does not contain any datasets.\")"
   ]
  },
  {
   "cell_type": "code",
   "execution_count": 17,
   "metadata": {},
   "outputs": [
    {
     "name": "stdout",
     "output_type": "stream",
     "text": [
      "flower_shop\n"
     ]
    }
   ],
   "source": [
    "for table in list(client.list_tables(\"plants\")): \n",
    "  print(table.table_id)"
   ]
  }
 ],
 "metadata": {
  "kernelspec": {
   "display_name": "venv",
   "language": "python",
   "name": "python3"
  },
  "language_info": {
   "codemirror_mode": {
    "name": "ipython",
    "version": 3
   },
   "file_extension": ".py",
   "mimetype": "text/x-python",
   "name": "python",
   "nbconvert_exporter": "python",
   "pygments_lexer": "ipython3",
   "version": "3.7.16 (default, Dec  7 2022, 01:12:33) \n[GCC 11.3.0]"
  },
  "orig_nbformat": 4,
  "vscode": {
   "interpreter": {
    "hash": "cfa490f91e93b1768cd0c815cdf72c18f9e595cddc78395ea4415b9b830f707c"
   }
  }
 },
 "nbformat": 4,
 "nbformat_minor": 2
}
